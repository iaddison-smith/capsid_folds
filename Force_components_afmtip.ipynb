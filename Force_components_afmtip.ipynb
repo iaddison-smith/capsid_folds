{
 "cells": [
  {
   "cell_type": "markdown",
   "metadata": {},
   "source": [
    "## Importing modules"
   ]
  },
  {
   "cell_type": "code",
   "execution_count": 236,
   "metadata": {},
   "outputs": [],
   "source": [
    "#Importing modules and font style\n",
    "import numpy as np\n",
    "import os\n",
    "import matplotlib.pyplot as plt\n",
    "import glob\n",
    "%matplotlib inline\n",
    "plt.rcParams['font.family'] = 'serif'\n",
    "plt.rcParams['font.size'] = 16\n",
    "plt.rcParams['xtick.labelsize']=16\n",
    "plt.rcParams['ytick.labelsize']=16\n",
    "plt.rcParams['lines.linewidth']=3\n",
    "plt.rcParams['lines.markersize']=10"
   ]
  },
  {
   "cell_type": "markdown",
   "metadata": {},
   "source": [
    "## Molar to debye length to kappa"
   ]
  },
  {
   "cell_type": "code",
   "execution_count": null,
   "metadata": {},
   "outputs": [],
   "source": [
    "# --> mM [2,5,10,  20,  30,  40,  50,  60,  70,  80,  90, 100, 110, 120, 130, 140, 150, 160, 170, 180, 190, 200] 22\n",
    "\n",
    "# --> Debye length (nm) [6.888204173817549, 4.356482835508365, 3.0804985551107635, 2.1782414177541827,1.7785266700314526,1.5402492775553818,1.3776408347635098,1.2576082689003694,1.1643190129881256\n",
    "# , 1.0891207088770913,1.0268328517035876, 0.9741391763007738,  0.9288052613213044, 0.8892633350157263, 0.8543765764957377, 0.8232978695483315, 0.7953813067973331, 0.7701246387776909,\n",
    "# 0.7471306424873098, 0.7260804725847274, 0.706714836707941, 0.6888204173817549]\n",
    "\n",
    "# --> Kappa (1/nm) \t\n",
    "\n",
    "# array([0.01451757, 0.0229543 , 0.03246228, 0.04590859, 0.05622631,\n",
    "#        0.06492456, 0.07258786, 0.07951602, 0.08588711, 0.09181719,\n",
    "#        0.09738683, 0.10265474, 0.1076652 , 0.11245263, 0.11704441,\n",
    "#        0.12146272, 0.12572586, 0.12984911, 0.1338454 , 0.13772578,\n",
    "#        0.14149979, 0.14517572])"
   ]
  },
  {
   "cell_type": "markdown",
   "metadata": {},
   "source": [
    "## Functions "
   ]
  },
  {
   "cell_type": "code",
   "execution_count": 194,
   "metadata": {},
   "outputs": [],
   "source": [
    "def get_energy_data(results_file_path):\n",
    "    \"\"\"\n",
    "    Read energy and distances from Pygbe results file, for \n",
    "    a afm-tip example\n",
    "    -------\n",
    "    Inputs:\n",
    "        results_file_path: Pygbe results file\n",
    "    Return:\n",
    "        None\n",
    "    \"\"\"\n",
    "    results_file = open(results_file_path,'r')\n",
    "    results_data = results_file.read().split('\\n')\n",
    "    for line in results_data:\n",
    "        if 'Surface 0' in line:\n",
    "            surf = 0\n",
    "        elif 'Surface 1' in line:\n",
    "            surf = 1\n",
    "        elif 'box center' in line:\n",
    "            aux = line.split(': ')\n",
    "            if surf == 0:\n",
    "                line = aux[1].split(',')\n",
    "                r_surf1 = np.array([float(line[0]),float(line[1]),float(line[2])])\n",
    "            elif surf == 1:\n",
    "                line = aux[1].split(',')\n",
    "                r_surf2 = np.array([float(line[0]),float(line[1]),float(line[2])])\n",
    "    aux = results_data[-6].split('= ')\n",
    "    E_solv = float(aux[1].split(' ')[0])\n",
    "    aux = results_data[-5].split('= ')\n",
    "    E_surf = float(aux[1].split(' ')[0])\n",
    "    aux = results_data[-4].split('= ')\n",
    "    E_coul = float(aux[1].split(' ')[0])\n",
    "    results_file.close()\n",
    "    \n",
    "    return r_surf1, r_surf2, E_solv, E_surf, E_coul\n",
    "\n",
    "def readpqr(filename, N):\n",
    "    \"\"\"\n",
    "    Read pqr-format file\n",
    "    -------\n",
    "    Inputs:\n",
    "        filename: file .pqr with point-charge-radius format\n",
    "        N: number of solute charges present in filename\n",
    "    Return:\n",
    "        position: Array size (Nx3) with charges positions\n",
    "        q: Array size (Nx1) with charges values\n",
    "        amino_acid_name: Array (Nx1) with charges amino acid name\n",
    "        amino_acid_number: Array (Nx1) with charges amino acid name \n",
    "        atom_name: Array (Nx1) with atom_names\n",
    "        atom_number: Array (Nx1) with atom_numbers  \n",
    "    \"\"\"\n",
    "    pqr_file = open(filename,'r')\n",
    "    position = np.zeros((N,3))\n",
    "    q = np.zeros(N)\n",
    "    amino_acid_name = np.array(q, dtype=np.string_)\n",
    "    atom_name = np.array(q, dtype=np.string_)\n",
    "    chain = np.array(q, dtype=np.string_)\n",
    "    amino_acid_number = np.zeros(N, dtype=int)\n",
    "    counter = 0\n",
    "    for i, line in enumerate(pqr_file):\n",
    "        line_split = line.split()\n",
    "        if line_split[0] == 'ATOM':\n",
    "            position[counter,0] = float(line_split[6])\n",
    "            position[counter,1] = float(line_split[7])\n",
    "            position[counter,2] = float(line_split[8])\n",
    "            q[counter] = float(line_split[9])\n",
    "            amino_acid_name[counter] = line_split[3]\n",
    "            amino_acid_number[counter] = int(line_split[5])\n",
    "            atom_name[counter] = line_split[2]\n",
    "            chain[counter] = line_split[4]\n",
    "            counter += 1\n",
    "        \n",
    "    return position, q, amino_acid_name, amino_acid_number, atom_name,chain\n",
    "\n",
    "def compute_force_qf(dphi, q, units='kcal'):\n",
    "    \"\"\"\n",
    "    Compute forces due solute charges in the solute\n",
    "    from dphi.txt file and q charges array\n",
    "    -------\n",
    "    Inputs:\n",
    "        dphi: file .pqr with point-charge-radius format\n",
    "        q: number of solute charges present in filename\n",
    "    Return:\n",
    "        force: Array size (Nx3) with forces for solute charges\n",
    "        force_magnitude: Array size (Nx1) with forces magnitude for solute charges \n",
    "        total_force: Array size (1x3) with total force due solute charges\n",
    "        total_force_magnitude: Array (1x1) with total force magnitude\n",
    "    \"\"\"\n",
    "    if units == 'kcal':\n",
    "        factor = 4*np.pi*332.0636817823836 #1e-3*Na*1e10*(qe**2/(ep_vacc*4*numpy.pi*cal2J))\n",
    "    elif units == 'kJ':\n",
    "        factor = 4.184*4*np.pi*332.0636817823836\n",
    "    elif units == 'pN':\n",
    "        factor = 69.467*4*np.pi*332.0636817823836\n",
    "        \n",
    "    force = -np.transpose(np.transpose(dphi)*q)\n",
    "    force_magnitude = np.sqrt(np.sum(force**2, axis=1))\n",
    "    total_force = np.sum(force, axis=0)\n",
    "    total_force_magnitude = np.sqrt(np.sum(total_force**2))\n",
    "\n",
    "    return factor*force, factor*force_magnitude, factor*total_force, factor*total_force_magnitude\n",
    "\n",
    "def compute_force_qf_zika(dir, units='kcal'):\n",
    "    \"\"\"\n",
    "    Read from directory with results file to get \n",
    "    fixed charge forces for afm-zika case\n",
    "    -------\n",
    "    Inputs:\n",
    "        dir: directory with results file\n",
    "    Return:\n",
    "        fqf: Array size (1x3) with total force due solute charges\n",
    "        fqf_mag: Array (1x1) with total force magnitude\n",
    "    \"\"\"    \n",
    "    fqf = np.zeros((len(dir),3))\n",
    "    fqf_mag = np.zeros(len(dir))\n",
    "    dist = np.zeros((len(dir)))\n",
    "    for j in range(len(dir)):\n",
    "        dist[j] = (dir[j].split('dist')[-1])\n",
    "        dphir_file = glob.glob(dir[j] + '\\*dphir.txt')\n",
    "        dphir = np.loadtxt(dphir_file[0])\n",
    "        _, q, _, _, _,_ = readpqr('pqr\\\\ZIKV_6CO8_aa_charge_vdw_addspace.pqr',len(dphir))\n",
    "        _, _, fqf[j,:], fqf_mag[j] = compute_force_qf(dphir,q, units)\n",
    "\n",
    "    return dist, fqf, fqf_mag\n",
    "\n",
    "def get_boundary_forces(data_sim, molarity):\n",
    "    \"\"\"\n",
    "    Extract boundary forces from pygbe results file\n",
    "    -------\n",
    "    Inputs:\n",
    "        data_sim: dictionary with simulation data directory\n",
    "        molarity: int value of molarity\n",
    "    Return:\n",
    "        fdb: Array size (3x1) with dielectric boundary force\n",
    "        fib: Array size (3x1) with ionic boundary force\n",
    "    \"\"\"\n",
    "    # Use the first distance (2 Ang) to search boundary forces\n",
    "    files = glob.glob(data_sim[str(molarity)][0]+'\\*')\n",
    "\n",
    "    #Get only the bound files from files list\n",
    "    files_bound = [file for file in files if 'Bound' in file.split('\\\\')[-1].split('_')[0]]\n",
    "    files_bound = sorted(files_bound, key=lambda x: int(x.split('_')[-1].split('Plane')[0]))\n",
    "\n",
    "    fdb, fib = np.zeros((len(files_bound),3)), np.zeros((len(files_bound),3))\n",
    "    j = 0\n",
    "    factor = 69.467*4*np.pi*332.0636817823836 #factor to convert to pN\n",
    "    for file in files_bound:\n",
    "        file_data = open(file,'r')\n",
    "        file_data = file_data.read().split('\\n')\n",
    "        #Dielectric boundary force\n",
    "        fdb[j,:] = factor*np.array(file_data[-4].split(' '),dtype=np.float64)\n",
    "        #Ionic boundary force\n",
    "        fib[j,:] = factor*np.array(file_data[-2].split(' '),dtype=np.float64)\n",
    "        j += 1\n",
    "\n",
    "    return fdb, fib"
   ]
  },
  {
   "cell_type": "code",
   "execution_count": 184,
   "metadata": {},
   "outputs": [],
   "source": [
    "# Save in a dictionary all the folders from allSimsZikaAsItIs\n",
    "data_sim = dict()\n",
    "allSimsZikaAsItIs = glob.glob('allSimsZikaAsItIs/*')\n",
    "sims = glob.glob('allSimsZikaAsItIs/sysBunch2/*')\n",
    "for dir in allSimsZikaAsItIs:\n",
    "    data_molarity = dict()\n",
    "    molarity = dir.split('sysBunch')[1]\n",
    "    data_sim[molarity] = glob.glob(dir+'/*')\n",
    "\n",
    "#sort a data_sim dictionary by key value\n",
    "data_sim = dict(sorted(data_sim.items(), key=lambda x: int(x[0])))\n",
    "#sort data_sim value array by dist value\n",
    "for key, value in data_sim.items():\n",
    "    data_sim[key] = sorted(value, key=lambda x: int(x.split('dist')[-1]))"
   ]
  },
  {
   "cell_type": "markdown",
   "metadata": {},
   "source": [
    "### Load simulation files"
   ]
  },
  {
   "cell_type": "code",
   "execution_count": 243,
   "metadata": {},
   "outputs": [],
   "source": [
    "molar = '200'\n",
    "\n",
    "dist,fqf,_ = compute_force_qf_zika(data_sim[molar], units='pN')\n",
    "fdb, fib = get_boundary_forces(data_sim, molar)\n",
    "\n",
    "# Binding force by substracting solvation force for capsid far away from tip\n",
    "F_terms = fqf+fdb+fib - (fqf[-1]+fdb[-1]+fib[-1] )\n",
    "\n",
    "# MVM fitting function (Podgornik et al. Nanoscale, 2015)\n",
    "def forces_MVM(d,B,A=0,k=1/6.8):\n",
    "    return (A*np.exp(-2*k*d)+B*np.exp(-k*d))/(1-np.exp(-2*k*d))"
   ]
  },
  {
   "cell_type": "code",
   "execution_count": 238,
   "metadata": {},
   "outputs": [
    {
     "name": "stdout",
     "output_type": "stream",
     "text": [
      "['Solarize_Light2', '_classic_test_patch', '_mpl-gallery', '_mpl-gallery-nogrid', 'bmh', 'classic', 'dark_background', 'fast', 'fivethirtyeight', 'ggplot', 'grayscale', 'seaborn', 'seaborn-bright', 'seaborn-colorblind', 'seaborn-dark', 'seaborn-dark-palette', 'seaborn-darkgrid', 'seaborn-deep', 'seaborn-muted', 'seaborn-notebook', 'seaborn-paper', 'seaborn-pastel', 'seaborn-poster', 'seaborn-talk', 'seaborn-ticks', 'seaborn-white', 'seaborn-whitegrid', 'tableau-colorblind10']\n"
     ]
    }
   ],
   "source": [
    "# plt.style.use('seaborn-poster')\n",
    "# plt.rcParams['font.family'] = 'serif'\n",
    "# plt.rcParams['font.size'] = 16\n",
    "# plt.rcParams['xtick.labelsize']=16\n",
    "# plt.rcParams['ytick.labelsize']=16\n",
    "# plt.rcParams['lines.linewidth']=3\n",
    "# plt.rcParams['lines.markersize']=10\n",
    "print(plt.style.available)"
   ]
  },
  {
   "cell_type": "markdown",
   "metadata": {},
   "source": [
    "### Plot Capsid-Sphere molaridad $= 2 mM$ "
   ]
  },
  {
   "cell_type": "code",
   "execution_count": 245,
   "metadata": {},
   "outputs": [
    {
     "data": {
      "image/png": "[encoded data removed]",
      "text/plain": [
       "<Figure size 750x450 with 1 Axes>"
      ]
     },
     "metadata": {
      "needs_background": "light"
     },
     "output_type": "display_data"
    }
   ],
   "source": [
    "delta_fqf = (fqf.swapaxes(0,1)[0]-fqf.swapaxes(0,1)[0][-1])\n",
    "delta_fdb = (fdb.swapaxes(0,1)[0]-fdb.swapaxes(0,1)[0][-1])\n",
    "delta_fib = (fib.swapaxes(0,1)[0]-fib.swapaxes(0,1)[0][-1])\n",
    "dd = np.arange(394,434,0.1)\n",
    "\n",
    "plt.figure(figsize=(10,6),dpi=75)\n",
    "plt.grid()\n",
    "plt.plot(dist,-delta_fqf, marker='D',label='$F_{qf}$')\n",
    "plt.plot(dist,-delta_fdb, marker='s',label='$F_{db}$')\n",
    "plt.plot(dist,-delta_fib, marker='o',label='$F_{ib}$')\n",
    "plt.plot(dist,-F_terms.swapaxes(0,1)[0], marker='x',label='$F_{total}$')\n",
    "plt.plot(dd[1:]-384,forces_MVM(dd[1:]-384,2,k=0.14517572),label='MVM B=2',linestyle='--')\n",
    "plt.grid()\n",
    "plt.xlim([0,20])\n",
    "plt.xlabel('d ($\\AA$)');\n",
    "plt.ylabel('$F_{bind}$ (pN)')\n",
    "plt.legend()\n",
    "plt.savefig('plots\\\\interaction_force_afmtip_%d(mM).png' % int(molar),dpi=300, bbox_inches='tight')\n",
    "plt.title('Interaction force between capsid and tip for %d mM' % int(molar))\n",
    "plt.show()\n",
    "plt.close()"
   ]
  }
 ],
 "metadata": {
  "kernelspec": {
   "display_name": "Python 3.8.12 ('bempp')",
   "language": "python",
   "name": "python3"
  },
  "language_info": {
   "codemirror_mode": {
    "name": "ipython",
    "version": 3
   },
   "file_extension": ".py",
   "mimetype": "text/x-python",
   "name": "python",
   "nbconvert_exporter": "python",
   "pygments_lexer": "ipython3",
   "version": "3.8.12"
  },
  "orig_nbformat": 4,
  "vscode": {
   "interpreter": {
    "hash": "15f4c482ded4c9e29ad49d5369368ed62f4205a24954716992462e7eb342d5f6"
   }
  }
 },
 "nbformat": 4,
 "nbformat_minor": 2
}
