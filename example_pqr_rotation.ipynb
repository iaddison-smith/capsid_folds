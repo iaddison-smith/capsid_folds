{
 "cells": [
  {
   "cell_type": "markdown",
   "id": "46bcff61",
   "metadata": {},
   "source": [
    "## PQR rotation example"
   ]
  },
  {
   "cell_type": "markdown",
   "id": "438816d2",
   "metadata": {},
   "source": [
    "Rotation test with a rotation for 180 deg of zika virus with respect to z-axis. We can check that x_rotated = -x and y_rotated = -y"
   ]
  },
  {
   "cell_type": "code",
   "execution_count": 8,
   "id": "8b4e0a5f",
   "metadata": {},
   "outputs": [],
   "source": [
    "import MDAnalysis as mda\n",
    "from MDAnalysis import transformations\n",
    "import numpy as np\n",
    "\n",
    "zika_origin = mda.Universe('pqr/ZIKV_6CO8_aa_charge_vdw_addspace.pqr')\n",
    "zika = mda.Universe('pqr/ZIKV_6CO8_aa_charge_vdw_addspace.pqr')"
   ]
  },
  {
   "cell_type": "code",
   "execution_count": 3,
   "id": "26eaed31",
   "metadata": {},
   "outputs": [
    {
     "data": {
      "text/plain": [
       "(array([[-158.378,  -64.7  , -129.804],\n",
       "        [-159.515,  -65.576, -129.445],\n",
       "        [-159.178,  -66.976, -129.96 ],\n",
       "        ...,\n",
       "        [ -91.22 ,  146.41 ,   73.082],\n",
       "        [ -91.007,  149.585,   75.407],\n",
       "        [ -90.401,  146.744,   72.613]], dtype=float32),\n",
       " (1576628, 3))"
      ]
     },
     "execution_count": 3,
     "metadata": {},
     "output_type": "execute_result"
    }
   ],
   "source": [
    "zika_origin.atoms.positions, zika_origin.atoms.positions.shape # File atoms positions"
   ]
  },
  {
   "cell_type": "code",
   "execution_count": 4,
   "id": "e4d5bafd",
   "metadata": {},
   "outputs": [],
   "source": [
    "# Rotation using MDAnalysis example\n",
    "ts = zika.trajectory.ts\n",
    "angle = 180 # Angle in degrees\n",
    "ag = zika.atoms\n",
    "d = [0,0,1] # direction of a custom axis of rotation from the provided point\n",
    "rotated = transformations.rotate.rotateby(angle, direction=d, ag=ag)(ts)"
   ]
  },
  {
   "cell_type": "code",
   "execution_count": 5,
   "id": "1cbdfb4a",
   "metadata": {},
   "outputs": [
    {
     "data": {
      "text/plain": [
       "(array([[ 158.38007,   64.70003, -129.804  ],\n",
       "        [ 159.51706,   65.57603, -129.445  ],\n",
       "        [ 159.18005,   66.97603, -129.96   ],\n",
       "        ...,\n",
       "        [  91.22207, -146.40997,   73.082  ],\n",
       "        [  91.00907, -149.58498,   75.407  ],\n",
       "        [  90.40307, -146.74397,   72.613  ]], dtype=float32),\n",
       " (1576628, 3))"
      ]
     },
     "execution_count": 5,
     "metadata": {},
     "output_type": "execute_result"
    }
   ],
   "source": [
    "rotated.positions, rotated.positions.shape # Rotated atoms positions"
   ]
  },
  {
   "cell_type": "code",
   "execution_count": 6,
   "id": "719d20bb",
   "metadata": {},
   "outputs": [
    {
     "data": {
      "text/plain": [
       "((array([], dtype=int64),),\n",
       " (array([], dtype=int64),),\n",
       " (array([      0,       1,       2, ..., 1576625, 1576626, 1576627],\n",
       "        dtype=int64),))"
      ]
     },
     "execution_count": 6,
     "metadata": {},
     "output_type": "execute_result"
    }
   ],
   "source": [
    "# Safety check\n",
    "check_x_axis = np.where(abs((zika_origin.atoms.positions[:,0] - -zika.atoms.positions[:,0]))>1e-2)\n",
    "check_y_axis = np.where(abs((zika_origin.atoms.positions[:,1] - -zika.atoms.positions[:,1]))>1e-2)\n",
    "check_z_axis = np.where(abs((zika_origin.atoms.positions[:,2] - -zika.atoms.positions[:,2]))>1e-2)\n",
    "check_x_axis, check_y_axis, check_z_axis"
   ]
  },
  {
   "cell_type": "code",
   "execution_count": 11,
   "id": "fd2fdbba",
   "metadata": {},
   "outputs": [],
   "source": [
    "# Saving name file in pqr format\n",
    "rotation_axis = np.argmax(d)\n",
    "direction_to_string = lambda x : 'x-axis' if x == 0 else 'y-axis' if x == 1 else 'z-axis'\n",
    "zika.atoms.write('zika_rotation_angle%2d_%s.pqr'%(angle, direction_to_string(rotation_axis)))"
   ]
  },
  {
   "cell_type": "code",
   "execution_count": 48,
   "id": "735ab04b",
   "metadata": {},
   "outputs": [
    {
     "data": {
      "text/plain": [
       "(array([    1,     2,     3, ..., 76626, 76627, 76628]),\n",
       " array(['N', 'CA', 'C', ..., 'OG', 'OXT', 'HG'], dtype=object),\n",
       " array(['ILE', 'ILE', 'ILE', ..., 'SER', 'SER', 'SER'], dtype=object),\n",
       " array(['A', 'A', 'A', ..., 'F', 'F', 'F'], dtype=object),\n",
       " array([ 1,  1,  1, ..., 75, 75, 75]),\n",
       " array([ 0.031     ,  0.026     ,  0.61199999, ..., -0.65100002,\n",
       "        -0.81300002,  0.447     ]),\n",
       " array([1.824     , 1.90799999, 1.90799999, ..., 1.72099996, 1.66100001,\n",
       "        0.        ]))"
      ]
     },
     "execution_count": 48,
     "metadata": {},
     "output_type": "execute_result"
    }
   ],
   "source": [
    "zika.atoms.ids, zika.atoms.names, zika.atoms.resnames, zika.atoms.segids, zika.atoms.resnums, zika.atoms.charges, zika.atoms.radii"
   ]
  }
 ],
 "metadata": {
  "kernelspec": {
   "display_name": "Python 3.8.12 ('bempp')",
   "language": "python",
   "name": "python3"
  },
  "language_info": {
   "codemirror_mode": {
    "name": "ipython",
    "version": 3
   },
   "file_extension": ".py",
   "mimetype": "text/x-python",
   "name": "python",
   "nbconvert_exporter": "python",
   "pygments_lexer": "ipython3",
   "version": "3.8.12"
  },
  "vscode": {
   "interpreter": {
    "hash": "15f4c482ded4c9e29ad49d5369368ed62f4205a24954716992462e7eb342d5f6"
   }
  }
 },
 "nbformat": 4,
 "nbformat_minor": 5
}
