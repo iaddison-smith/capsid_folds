{
 "cells": [
  {
   "cell_type": "markdown",
   "id": "46bcff61",
   "metadata": {},
   "source": [
    "## Lectura PQR"
   ]
  },
  {
   "cell_type": "code",
   "execution_count": 1,
   "id": "8b4e0a5f",
   "metadata": {},
   "outputs": [],
   "source": [
    "import MDAnalysis as mda\n",
    "from MDAnalysis import transformations\n",
    "import numpy as np\n",
    "\n",
    "zika_origin = mda.Universe('pqr/ZIKV_6CO8_aa_charge_vdw_addspace.pqr')\n",
    "zika = mda.Universe('pqr/ZIKV_6CO8_aa_charge_vdw_addspace.pqr')"
   ]
  },
  {
   "cell_type": "code",
   "execution_count": 2,
   "id": "26eaed31",
   "metadata": {},
   "outputs": [
    {
     "data": {
      "text/plain": [
       "(array([[-158.378,  -64.7  , -129.804],\n",
       "        [-159.515,  -65.576, -129.445],\n",
       "        [-159.178,  -66.976, -129.96 ],\n",
       "        ...,\n",
       "        [ -91.22 ,  146.41 ,   73.082],\n",
       "        [ -91.007,  149.585,   75.407],\n",
       "        [ -90.401,  146.744,   72.613]], dtype=float32),\n",
       " (1576628, 3))"
      ]
     },
     "execution_count": 2,
     "metadata": {},
     "output_type": "execute_result"
    }
   ],
   "source": [
    "zika_origin.atoms.positions, zika_origin.atoms.positions.shape"
   ]
  },
  {
   "cell_type": "code",
   "execution_count": 3,
   "id": "e4d5bafd",
   "metadata": {},
   "outputs": [],
   "source": [
    "ts = zika.trajectory.ts\n",
    "angle = 180 # Angle in degrees\n",
    "ag = zika.atoms\n",
    "d = [0,0,1] # direction of a custom axis of rotation from the provided point\n",
    "rotated = transformations.rotate.rotateby(angle, direction=d, ag=ag)(ts)"
   ]
  },
  {
   "cell_type": "code",
   "execution_count": 4,
   "id": "1cbdfb4a",
   "metadata": {},
   "outputs": [
    {
     "data": {
      "text/plain": [
       "(array([[ 158.38007,   64.70003, -129.804  ],\n",
       "        [ 159.51706,   65.57603, -129.445  ],\n",
       "        [ 159.18005,   66.97603, -129.96   ],\n",
       "        ...,\n",
       "        [  91.22207, -146.40997,   73.082  ],\n",
       "        [  91.00907, -149.58498,   75.407  ],\n",
       "        [  90.40307, -146.74397,   72.613  ]], dtype=float32),\n",
       " (1576628, 3))"
      ]
     },
     "execution_count": 4,
     "metadata": {},
     "output_type": "execute_result"
    }
   ],
   "source": [
    "rotated.positions, rotated.positions.shape"
   ]
  },
  {
   "cell_type": "code",
   "execution_count": 5,
   "id": "719d20bb",
   "metadata": {},
   "outputs": [
    {
     "data": {
      "text/plain": [
       "(array([], dtype=int64),)"
      ]
     },
     "execution_count": 5,
     "metadata": {},
     "output_type": "execute_result"
    }
   ],
   "source": [
    "# Checkeo de seguridad\n",
    "np.where(abs((zika_origin.atoms.positions[:,0] - -rotated.positions[:,0]))>1e-2)"
   ]
  },
  {
   "cell_type": "code",
   "execution_count": 11,
   "id": "fd2fdbba",
   "metadata": {},
   "outputs": [],
   "source": [
    "# Guardar archivo formato pqr!!! \n",
    "rotation_axis = np.argmax(d)\n",
    "direction_to_string = lambda x : 'x-axis' if x == 0 else 'y-axis' if x == 1 else 'z-axis'\n",
    "zika.atoms.write('zika_rotation_angle%2d_%s.pqr'%(angle, direction_to_string(rotation_axis)))"
   ]
  },
  {
   "cell_type": "code",
   "execution_count": 48,
   "id": "735ab04b",
   "metadata": {},
   "outputs": [
    {
     "data": {
      "text/plain": [
       "(array([    1,     2,     3, ..., 76626, 76627, 76628]),\n",
       " array(['N', 'CA', 'C', ..., 'OG', 'OXT', 'HG'], dtype=object),\n",
       " array(['ILE', 'ILE', 'ILE', ..., 'SER', 'SER', 'SER'], dtype=object),\n",
       " array(['A', 'A', 'A', ..., 'F', 'F', 'F'], dtype=object),\n",
       " array([ 1,  1,  1, ..., 75, 75, 75]),\n",
       " array([ 0.031     ,  0.026     ,  0.61199999, ..., -0.65100002,\n",
       "        -0.81300002,  0.447     ]),\n",
       " array([1.824     , 1.90799999, 1.90799999, ..., 1.72099996, 1.66100001,\n",
       "        0.        ]))"
      ]
     },
     "execution_count": 48,
     "metadata": {},
     "output_type": "execute_result"
    }
   ],
   "source": [
    "zika.atoms.ids, zika.atoms.names, zika.atoms.resnames, zika.atoms.segids, zika.atoms.resnums, zika.atoms.charges, zika.atoms.radii"
   ]
  },
  {
   "cell_type": "code",
   "execution_count": 60,
   "id": "c5d552eb",
   "metadata": {},
   "outputs": [
    {
     "ename": "KeyboardInterrupt",
     "evalue": "",
     "output_type": "error",
     "traceback": [
      "\u001b[1;31m---------------------------------------------------------------------------\u001b[0m",
      "\u001b[1;31mKeyboardInterrupt\u001b[0m                         Traceback (most recent call last)",
      "\u001b[1;32m~\\AppData\\Local\\Temp/ipykernel_5528/3155420368.py\u001b[0m in \u001b[0;36m<module>\u001b[1;34m\u001b[0m\n\u001b[0;32m      3\u001b[0m     \u001b[1;32mfor\u001b[0m \u001b[0mj\u001b[0m \u001b[1;32min\u001b[0m \u001b[0mrange\u001b[0m\u001b[1;33m(\u001b[0m\u001b[0mzika\u001b[0m\u001b[1;33m.\u001b[0m\u001b[0matoms\u001b[0m\u001b[1;33m.\u001b[0m\u001b[0mn_atoms\u001b[0m\u001b[1;33m)\u001b[0m\u001b[1;33m:\u001b[0m\u001b[1;33m\u001b[0m\u001b[1;33m\u001b[0m\u001b[0m\n\u001b[0;32m      4\u001b[0m         file.write('ATOM  {:5d} {:4} {:3} {}   {:3d}     {:.3f}  {:.3f} {:.3f} {:.3f} {:.3f} \\n'.format(zika.atoms.ids[j], \\\n\u001b[1;32m----> 5\u001b[1;33m         \u001b[0mzika\u001b[0m\u001b[1;33m.\u001b[0m\u001b[0matoms\u001b[0m\u001b[1;33m.\u001b[0m\u001b[0mnames\u001b[0m\u001b[1;33m[\u001b[0m\u001b[0mj\u001b[0m\u001b[1;33m]\u001b[0m\u001b[1;33m,\u001b[0m \u001b[0mzika\u001b[0m\u001b[1;33m.\u001b[0m\u001b[0matoms\u001b[0m\u001b[1;33m.\u001b[0m\u001b[0mresnames\u001b[0m\u001b[1;33m[\u001b[0m\u001b[0mj\u001b[0m\u001b[1;33m]\u001b[0m\u001b[1;33m,\u001b[0m \u001b[0mzika\u001b[0m\u001b[1;33m.\u001b[0m\u001b[0matoms\u001b[0m\u001b[1;33m.\u001b[0m\u001b[0msegids\u001b[0m\u001b[1;33m[\u001b[0m\u001b[0mj\u001b[0m\u001b[1;33m]\u001b[0m\u001b[1;33m,\u001b[0m \u001b[0mzika\u001b[0m\u001b[1;33m.\u001b[0m\u001b[0matoms\u001b[0m\u001b[1;33m.\u001b[0m\u001b[0mresnums\u001b[0m\u001b[1;33m[\u001b[0m\u001b[0mj\u001b[0m\u001b[1;33m]\u001b[0m\u001b[1;33m,\u001b[0m \u001b[0mrotated\u001b[0m\u001b[1;33m.\u001b[0m\u001b[0mpositions\u001b[0m\u001b[1;33m[\u001b[0m\u001b[0mj\u001b[0m\u001b[1;33m,\u001b[0m\u001b[1;36m0\u001b[0m\u001b[1;33m]\u001b[0m\u001b[1;33m,\u001b[0m\u001b[0;31m \u001b[0m\u001b[0;31m\\\u001b[0m\u001b[1;33m\u001b[0m\u001b[1;33m\u001b[0m\u001b[0m\n\u001b[0m\u001b[0;32m      6\u001b[0m         rotated.positions[j,1], rotated.positions[j,2], zika.atoms.charges[j], zika.atoms.radii[j]))\n",
      "\u001b[1;31mKeyboardInterrupt\u001b[0m: "
     ]
    }
   ],
   "source": [
    "# open a file and write rotation coordinates \n",
    "# no poner tantos .write en el loop\n",
    "with open('zika_rotation_angle%2d_%s.pqr' %(angle, direction_to_string(rotation_axis)), 'w') as file:\n",
    "    for j in range(zika.atoms.n_atoms):\n",
    "        file.write('ATOM  {:5d} {:4} {:3} {}   {:3d}     {:.3f}  {:.3f} {:.3f} {:.3f} {:.3f} \\n'.format(zika.atoms.ids[j], \\\n",
    "        zika.atoms.names[j], zika.atoms.resnames[j], zika.atoms.segids[j], zika.atoms.resnums[j], rotated.positions[j,0], \\\n",
    "        rotated.positions[j,1], rotated.positions[j,2], zika.atoms.charges[j], zika.atoms.radii[j]))"
   ]
  }
 ],
 "metadata": {
  "kernelspec": {
   "display_name": "Python 3.8.12 ('bempp')",
   "language": "python",
   "name": "python3"
  },
  "language_info": {
   "codemirror_mode": {
    "name": "ipython",
    "version": 3
   },
   "file_extension": ".py",
   "mimetype": "text/x-python",
   "name": "python",
   "nbconvert_exporter": "python",
   "pygments_lexer": "ipython3",
   "version": "3.8.12"
  },
  "vscode": {
   "interpreter": {
    "hash": "15f4c482ded4c9e29ad49d5369368ed62f4205a24954716992462e7eb342d5f6"
   }
  }
 },
 "nbformat": 4,
 "nbformat_minor": 5
}
